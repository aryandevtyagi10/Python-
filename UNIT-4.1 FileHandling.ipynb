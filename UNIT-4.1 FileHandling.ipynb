{
 "cells": [
  {
   "cell_type": "markdown",
   "id": "e06f0239",
   "metadata": {},
   "source": [
    "# File Access Modes using 'with' keyword"
   ]
  },
  {
   "cell_type": "markdown",
   "id": "98095970",
   "metadata": {},
   "source": [
    "# File access modes in Python determine how a file is opened and manipulated.\n",
    "\n",
    "\n",
    "## File Access Modes\n",
    "\n",
    "| Mode| Description                                                                                       |\n",
    "|-----|---------------------------------------------------------------------------------------------------|\n",
    "| 'r' | Opens the file for **reading**. Raises an error if the file doesn't exist.                        |\n",
    "| 'w' | Opens the file for **writing**. Creates a new file or truncates the existing file.                |\n",
    "| 'a' | Opens the file for **appending**. Writes data at the end of the file without truncating it.       |\n",
    "| 'x' | Creates a new file for **exclusive creation**. Raises an error if the file already exists.        |\n",
    "| 'b' | Opens the file in **binary mode** (useful for non-text files like images).                        |\n",
    "| 't' | Opens the file in **text mode** (default mode for text-based operations).                         |\n",
    "| 'r+'| Opens the file for both **reading and writing**.                                                  |\n",
    "| 'w+'| Opens the file for both **writing and reading**. Overwrites the file if it exists.                |\n",
    "| 'a+'| Opens the file for both **appending and reading**. Creates the file if it doesn't exist.          |\n",
    "| 'x+'| Opens the file for **exclusive creation and reading/writing**. Raises an error if it exists.      |\n",
    "\n",
    "\n",
    "\n",
    "## Combining Modes\n",
    "You can combine binary (`'b'`) with other modes:\n",
    "- `'rb'`: Read in binary mode.\n",
    "- `'wb'`: Write in binary mode.\n",
    "- `'ab'`: Append in binary mode.\n",
    "- `'rb+'`: Read and write in binary mode.\n",
    "- `'wb+'`: Write and read in binary mode.\n",
    "- `'ab+'`: Append and read in binary mode.\n",
    "\n",
    "Example:\n",
    "\n",
    "# Writing and reading binary data\n",
    "with open(\"binary_file.bin\", \"wb+\") as file:\n",
    "    file.write(b\"This is binary data.\\n\")\n",
    "    file.seek(0)\n",
    "    print(file.read())\n",
    "\n"
   ]
  },
  {
   "cell_type": "code",
   "execution_count": 13,
   "id": "62ad7288",
   "metadata": {},
   "outputs": [
    {
     "name": "stdout",
     "output_type": "stream",
     "text": [
      "This is new content.\n",
      "\n"
     ]
    }
   ],
   "source": [
    "# 1. Read Mode ('r')\n",
    "# Reading a file\n",
    "# File gets automatically closed once the control comes out of the 'with' block\n",
    "with open(\"example.txt\", \"r\") as file:\n",
    "    content = file.read()\n",
    "    print(content)\n",
    "\n",
    "# If the file doesn't exist, FileNotFoundError is raised."
   ]
  },
  {
   "cell_type": "code",
   "execution_count": 3,
   "id": "ae3a3f8c",
   "metadata": {},
   "outputs": [
    {
     "name": "stdout",
     "output_type": "stream",
     "text": [
      "67\n"
     ]
    }
   ],
   "source": [
    "# 2. Write Mode ('w')\n",
    "# Writing to a file (overwrites existing content)\n",
    "\n",
    "with open(\"example.txt\", \"w\") as file:\n",
    "    a=file.write(\"Write Mode overwrites the file content if the file already exists.\\n\")\n",
    "    print(a)\n",
    "# If the file doesn't exist, it creates a new one.\n"
   ]
  },
  {
   "cell_type": "code",
   "execution_count": 5,
   "id": "a6575208",
   "metadata": {},
   "outputs": [],
   "source": [
    "# 3. Append Mode ('a')\n",
    "# Appending to a file (adds content at the end)\n",
    "\n",
    "with open(\"example.txt\", \"a\") as file:\n",
    "    file.write(\"This line is added to the file.\\n\")\n",
    "\n",
    "# Creates a new file if it doesn't exist."
   ]
  },
  {
   "cell_type": "code",
   "execution_count": 7,
   "id": "aea5671a",
   "metadata": {},
   "outputs": [],
   "source": [
    "# 4. Exclusive Creation Mode ('x')\n",
    "# Exclusive file creation\n",
    "\n",
    "try:\n",
    "    with open(\"new_file.txt\", \"x\") as file:\n",
    "        file.write(\"This file is created exclusively.\\n\")\n",
    "except FileExistsError:\n",
    "    print(\"File already exists.\")\n"
   ]
  },
  {
   "cell_type": "code",
   "execution_count": null,
   "id": "1c86df68",
   "metadata": {},
   "outputs": [],
   "source": [
    "# 5. Binary Mode ('b')\n",
    "# Reading a binary file (e.g., an image)\n",
    "\n",
    "with open(\"image.jpg\", \"rb\") as file:\n",
    "    content = file.read()\n",
    "    print(content[:10])  # Prints the first 10 bytes\n",
    "\n",
    "# Writing a binary file\n",
    "with open(\"copy.jpg\", \"wb\") as file:\n",
    "    file.write(content)\n"
   ]
  },
  {
   "cell_type": "code",
   "execution_count": 10,
   "id": "dcff0e9e",
   "metadata": {},
   "outputs": [
    {
     "name": "stdout",
     "output_type": "stream",
     "text": [
      "Before: Write Mode overwrites the file content if the file already exists.\n",
      "This line is added to the file.\n",
      "Adding this line.\n",
      "Adding this line.\n",
      "\n"
     ]
    }
   ],
   "source": [
    "# 6. Read and Write Mode ('r+')\n",
    "# Reading and writing (doesn't overwrite)\n",
    "\n",
    "with open(\"example.txt\", \"r+\") as file:\n",
    "    content = file.read()\n",
    "    print(\"Before:\", content)\n",
    "    file.write(\"Adding this line.\\n\")"
   ]
  },
  {
   "cell_type": "code",
   "execution_count": 12,
   "id": "03a1989c",
   "metadata": {},
   "outputs": [],
   "source": [
    "# 7. Write and Read Mode ('w+')\n",
    "# Writing and reading (overwrites the file)\n",
    "\n",
    "with open(\"example.txt\", \"w+\") as file:\n",
    "    file.write(\"This is new content.\\n\")\n",
    "    file.seek(0)  # Move the pointer to the beginning of the file\n"
   ]
  },
  {
   "cell_type": "code",
   "execution_count": 14,
   "id": "e57ee1c7",
   "metadata": {},
   "outputs": [
    {
     "name": "stdout",
     "output_type": "stream",
     "text": [
      "Content: This is new content.\n",
      "Appended content.\n",
      "\n"
     ]
    }
   ],
   "source": [
    "# 8. Append and Read Mode (`'a+'`)**\n",
    "# Appending and reading\n",
    "\n",
    "with open(\"example.txt\", \"a+\") as file:\n",
    "    file.write(\"Appended content.\\n\")\n",
    "    file.seek(0)  # Move the pointer to the beginning of the file\n",
    "    print(\"Content:\", file.read())\n"
   ]
  },
  {
   "cell_type": "code",
   "execution_count": 15,
   "id": "d2448b5f",
   "metadata": {},
   "outputs": [
    {
     "name": "stdout",
     "output_type": "stream",
     "text": [
      "Content: Exclusive read/write mode.\n",
      "\n"
     ]
    }
   ],
   "source": [
    "# 9. Exclusive Creation with Read and Write ('x+')\n",
    "# Exclusive creation for reading and writing\n",
    "\n",
    "try:\n",
    "    with open(\"exclusive.txt\", \"x+\") as file:\n",
    "        file.write(\"Exclusive read/write mode.\\n\")\n",
    "        file.seek(0)\n",
    "        print(\"Content:\", file.read())\n",
    "except FileExistsError:\n",
    "    print(\"File already exists.\")\n"
   ]
  },
  {
   "cell_type": "code",
   "execution_count": 8,
   "id": "db31c303",
   "metadata": {},
   "outputs": [
    {
     "name": "stdout",
     "output_type": "stream",
     "text": [
      "File removed\n"
     ]
    }
   ],
   "source": [
    "import os\n",
    "os.remove('Myfile.txt')\n",
    "print('File removed')"
   ]
  },
  {
   "cell_type": "code",
   "execution_count": 9,
   "id": "f414dcf9",
   "metadata": {},
   "outputs": [
    {
     "name": "stdout",
     "output_type": "stream",
     "text": [
      "Data written to file\n",
      "Hello world\n",
      "Welcome to python\n",
      "Enjoy Python\n"
     ]
    }
   ],
   "source": [
    "f=open('Myfile.txt','w');\n",
    "lines=['Hello world\\n', 'Welcome to python\\n', 'Enjoy Python']\n",
    "f.writelines(lines)\n",
    "f.close()\n",
    "print('Data written to file')\n",
    "f=open('Myfile.txt')\n",
    "print(f.read())"
   ]
  },
  {
   "cell_type": "code",
   "execution_count": 7,
   "id": "8ee930ab",
   "metadata": {},
   "outputs": [],
   "source": [
    "f.close()"
   ]
  },
  {
   "cell_type": "code",
   "execution_count": 2,
   "id": "6be7e89b",
   "metadata": {},
   "outputs": [
    {
     "name": "stdout",
     "output_type": "stream",
     "text": [
      "Hello! Welcome to Myfile.txt\n",
      "This file is for testing purposes.\n",
      "Good Luck!\n",
      "\n"
     ]
    }
   ],
   "source": [
    "f=open('demo1.txt','r')\n",
    "print(f.read())"
   ]
  },
  {
   "cell_type": "code",
   "execution_count": null,
   "id": "210e8655",
   "metadata": {},
   "outputs": [],
   "source": []
  }
 ],
 "metadata": {
  "kernelspec": {
   "display_name": "Python 3 (ipykernel)",
   "language": "python",
   "name": "python3"
  },
  "language_info": {
   "codemirror_mode": {
    "name": "ipython",
    "version": 3
   },
   "file_extension": ".py",
   "mimetype": "text/x-python",
   "name": "python",
   "nbconvert_exporter": "python",
   "pygments_lexer": "ipython3",
   "version": "3.9.7"
  }
 },
 "nbformat": 4,
 "nbformat_minor": 5
}
