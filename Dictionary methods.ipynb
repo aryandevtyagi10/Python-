{
 "cells": [
  {
   "cell_type": "markdown",
   "id": "8a34bafd",
   "metadata": {},
   "source": [
    "In Python, a dictionary is a collection of key-value pairs. \n",
    "Each key is unique, and it is used to access the corresponding value. \n",
    "Dictionaries are mutable, which means they can be changed after creation. \n",
    "They are one of Python's built-in data types and are highly useful for situations where you want to map one value (the key) to another (the value).\n"
   ]
  },
  {
   "cell_type": "code",
   "execution_count": 2,
   "id": "580145f6",
   "metadata": {},
   "outputs": [
    {
     "name": "stdout",
     "output_type": "stream",
     "text": [
      "{'name': 'John', 'age': 25, 'city': 'New York'}\n"
     ]
    }
   ],
   "source": [
    "# Empty dictionary\n",
    "my_dict = {}\n",
    "\n",
    "# Dictionary with values\n",
    "my_dict = {\n",
    "    \"name\": \"John\",\n",
    "    \"age\": 25,\n",
    "    \"city\": \"New York\"\n",
    "}\n",
    "print(my_dict)"
   ]
  },
  {
   "cell_type": "code",
   "execution_count": 3,
   "id": "00a8b787",
   "metadata": {},
   "outputs": [
    {
     "name": "stdout",
     "output_type": "stream",
     "text": [
      "John\n",
      "25\n",
      "None\n"
     ]
    },
    {
     "ename": "KeyError",
     "evalue": "'profession'",
     "output_type": "error",
     "traceback": [
      "\u001b[1;31m---------------------------------------------------------------------------\u001b[0m",
      "\u001b[1;31mKeyError\u001b[0m                                  Traceback (most recent call last)",
      "\u001b[1;32mC:\\Users\\NISHTH~1\\AppData\\Local\\Temp/ipykernel_23084/3773613388.py\u001b[0m in \u001b[0;36m<module>\u001b[1;34m\u001b[0m\n\u001b[0;32m      5\u001b[0m \u001b[1;33m\u001b[0m\u001b[0m\n\u001b[0;32m      6\u001b[0m \u001b[0mprint\u001b[0m\u001b[1;33m(\u001b[0m\u001b[0mmy_dict\u001b[0m\u001b[1;33m.\u001b[0m\u001b[0mget\u001b[0m\u001b[1;33m(\u001b[0m\u001b[1;34m\"profession\"\u001b[0m\u001b[1;33m)\u001b[0m\u001b[1;33m)\u001b[0m\u001b[1;33m\u001b[0m\u001b[1;33m\u001b[0m\u001b[0m\n\u001b[1;32m----> 7\u001b[1;33m \u001b[0mprint\u001b[0m\u001b[1;33m(\u001b[0m\u001b[0mmy_dict\u001b[0m\u001b[1;33m[\u001b[0m\u001b[1;34m\"profession\"\u001b[0m\u001b[1;33m]\u001b[0m\u001b[1;33m)\u001b[0m\u001b[1;33m\u001b[0m\u001b[1;33m\u001b[0m\u001b[0m\n\u001b[0m\u001b[0;32m      8\u001b[0m \u001b[1;33m\u001b[0m\u001b[0m\n\u001b[0;32m      9\u001b[0m \u001b[1;31m#The get() method is safer to use because it returns None if the key doesn’t exist\u001b[0m\u001b[1;33m\u001b[0m\u001b[1;33m\u001b[0m\u001b[0m\n",
      "\u001b[1;31mKeyError\u001b[0m: 'profession'"
     ]
    }
   ],
   "source": [
    "#Accessing dictionary values\n",
    "\n",
    "print(my_dict[\"name\"])  \n",
    "print(my_dict.get(\"age\"))\n",
    "\n",
    "print(my_dict.get(\"profession\"))\n",
    "#print(my_dict[\"profession\"])  \n",
    "\n",
    "#The get() method is safer to use because it returns None if the key doesn’t exist \n",
    "#whereas using [] will raise a KeyError."
   ]
  },
  {
   "cell_type": "code",
   "execution_count": 20,
   "id": "d7d009e5",
   "metadata": {},
   "outputs": [
    {
     "name": "stdout",
     "output_type": "stream",
     "text": [
      "{'name': 'John', 'age': 26, 'city': 'Los Angeles', 'country': 'USA'}\n"
     ]
    }
   ],
   "source": [
    "# Adding or Modifying Items\n",
    "#Dictionaries are mutable, so you can add or modify items after they are created.\n",
    "\n",
    "my_dict[\"age\"] = 26  # Modifying an existing key\n",
    "# Updating the dictionary\n",
    "my_dict[\"country\"] = \"USA\"  # Adding a new key-value pair\n",
    "my_dict.update({ \"city\": \"Los Angeles\"})\n",
    "print(my_dict)\n",
    "\n"
   ]
  },
  {
   "cell_type": "code",
   "execution_count": 37,
   "id": "a9ad8175",
   "metadata": {},
   "outputs": [
    {
     "name": "stdout",
     "output_type": "stream",
     "text": [
      "dict_keys(['name', 'age', 'city'])\n",
      "dict_values(['John', 25, 'New York'])\n",
      "dict_items([('name', 'John'), ('age', 25), ('city', 'New York')])\n"
     ]
    }
   ],
   "source": [
    "# Dictionary Methods\n",
    "\n",
    "#keys(): Returns a view object of the dictionary’s keys.\n",
    "#values(): Returns a view object of the dictionary’s values.\n",
    "#items(): Returns a view object of key-value pairs.\n",
    "#update(): Updates the dictionary with another dictionary or key-value pairs.\n",
    "\n",
    "print(my_dict.keys())  # Output: dict_keys(['name'])\n",
    "print(my_dict.values())  # Output: dict_values(['John'])\n",
    "print(my_dict.items())  # Output: dict_items([('name', 'John')])\n",
    "\n",
    "\n"
   ]
  },
  {
   "cell_type": "code",
   "execution_count": 24,
   "id": "19cc43bf",
   "metadata": {},
   "outputs": [
    {
     "name": "stdout",
     "output_type": "stream",
     "text": [
      "Name exists in the dictionary.\n",
      "True\n"
     ]
    }
   ],
   "source": [
    "# Checking for Existence of Keys\n",
    "#You can check if a key exists in a dictionary using in.\n",
    "if \"name\" in my_dict:\n",
    "    print(\"Name exists in the dictionary.\")\n",
    "print('country' in my_dict)"
   ]
  },
  {
   "cell_type": "code",
   "execution_count": 26,
   "id": "ec39073b",
   "metadata": {},
   "outputs": [
    {
     "name": "stdout",
     "output_type": "stream",
     "text": [
      "{1: 1, 2: 4, 3: 9, 4: 16, 5: 25}\n"
     ]
    }
   ],
   "source": [
    "# Dictionary Comprehension\n",
    "squares = {x: x*x for x in range(6)}\n",
    "print(squares)  \n"
   ]
  },
  {
   "cell_type": "code",
   "execution_count": 30,
   "id": "25d5c270",
   "metadata": {},
   "outputs": [
    {
     "name": "stdout",
     "output_type": "stream",
     "text": [
      "name\n",
      "age\n",
      "city\n",
      "country\n",
      "\n",
      "John\n",
      "26\n",
      "Los Angeles\n",
      "USA\n",
      "\n",
      "name: John\n",
      "age: 26\n",
      "city: Los Angeles\n",
      "country: USA\n"
     ]
    }
   ],
   "source": [
    "#Iterating Through a Dictionary\n",
    "#You can iterate through a dictionary's keys, values, or items.\n",
    "\n",
    "# Iterating over keys\n",
    "for key in my_dict:\n",
    "    print(key)\n",
    "print()\n",
    "# Iterating over values\n",
    "for value in my_dict.values():\n",
    "    print(value)\n",
    "print()\n",
    "# Iterating over key-value pairs\n",
    "for key, value in my_dict.items():\n",
    "    print(f\"{key}: {value}\")\n",
    "\n"
   ]
  },
  {
   "cell_type": "code",
   "execution_count": 32,
   "id": "c2c36cfe",
   "metadata": {},
   "outputs": [
    {
     "name": "stdout",
     "output_type": "stream",
     "text": [
      "{'person1': {'name': 'John', 'age': 30}, 'person2': {'name': 'Anna', 'age': 25}}\n"
     ]
    }
   ],
   "source": [
    "#Nested Dictionaries\n",
    "#Dictionaries can contain other dictionaries (or other complex data types). \n",
    "\n",
    "nested_dict = {\n",
    "    \"person1\": {\"name\": \"John\", \"age\": 30},\n",
    "    \"person2\": {\"name\": \"Anna\", \"age\": 25}\n",
    "}\n",
    "print(nested_dict)"
   ]
  },
  {
   "cell_type": "code",
   "execution_count": 15,
   "id": "6e30f406",
   "metadata": {},
   "outputs": [
    {
     "name": "stdout",
     "output_type": "stream",
     "text": [
      "25\n",
      "{'name': 'John'}\n"
     ]
    },
    {
     "ename": "KeyError",
     "evalue": "'city'",
     "output_type": "error",
     "traceback": [
      "\u001b[1;31m---------------------------------------------------------------------------\u001b[0m",
      "\u001b[1;31mKeyError\u001b[0m                                  Traceback (most recent call last)",
      "\u001b[1;32mC:\\Users\\NISHTH~1\\AppData\\Local\\Temp/ipykernel_21840/294167952.py\u001b[0m in \u001b[0;36m<module>\u001b[1;34m\u001b[0m\n\u001b[0;32m     10\u001b[0m \u001b[0mmy_dict\u001b[0m\u001b[1;33m.\u001b[0m\u001b[0mpopitem\u001b[0m\u001b[1;33m(\u001b[0m\u001b[1;33m)\u001b[0m  \u001b[1;31m# Removes and returns the last inserted item\u001b[0m\u001b[1;33m\u001b[0m\u001b[1;33m\u001b[0m\u001b[0m\n\u001b[0;32m     11\u001b[0m \u001b[0mprint\u001b[0m\u001b[1;33m(\u001b[0m\u001b[0mmy_dict\u001b[0m\u001b[1;33m)\u001b[0m\u001b[1;33m\u001b[0m\u001b[1;33m\u001b[0m\u001b[0m\n\u001b[1;32m---> 12\u001b[1;33m \u001b[1;32mdel\u001b[0m \u001b[0mmy_dict\u001b[0m\u001b[1;33m[\u001b[0m\u001b[1;34m\"city\"\u001b[0m\u001b[1;33m]\u001b[0m  \u001b[1;31m# Deletes the 'city' key\u001b[0m\u001b[1;33m\u001b[0m\u001b[1;33m\u001b[0m\u001b[0m\n\u001b[0m\u001b[0;32m     13\u001b[0m \u001b[0mprint\u001b[0m\u001b[1;33m(\u001b[0m\u001b[0mmy_dict\u001b[0m\u001b[1;33m)\u001b[0m\u001b[1;33m\u001b[0m\u001b[1;33m\u001b[0m\u001b[0m\n\u001b[0;32m     14\u001b[0m \u001b[0mmy_dict\u001b[0m\u001b[1;33m.\u001b[0m\u001b[0mclear\u001b[0m\u001b[1;33m(\u001b[0m\u001b[1;33m)\u001b[0m  \u001b[1;31m# Empties the dictionary\u001b[0m\u001b[1;33m\u001b[0m\u001b[1;33m\u001b[0m\u001b[0m\n",
      "\u001b[1;31mKeyError\u001b[0m: 'city'"
     ]
    }
   ],
   "source": [
    "# Removing Items\n",
    "#You can remove items from a dictionary using several methods:\n",
    "#pop(): Removes an item by key.\n",
    "#popitem(): Removes and returns the last inserted key-value pair.\n",
    "#del: Removes an item by key or deletes the entire dictionary.\n",
    "#clear(): Removes all items from the dictionary.\n",
    "\n",
    "a=my_dict.pop(\"age\")  # Removes 'age' and returns its value\n",
    "print(a)\n",
    "my_dict.popitem()  # Removes and returns the last inserted item\n",
    "print(my_dict)\n",
    "del my_dict[\"city\"]  # Deletes the 'city' key\n",
    "print(my_dict)\n",
    "my_dict.clear()  # Empties the dictionary\n",
    "print(my_dict)"
   ]
  },
  {
   "cell_type": "code",
   "execution_count": 8,
   "id": "dda9f989",
   "metadata": {},
   "outputs": [
    {
     "name": "stdout",
     "output_type": "stream",
     "text": [
      "Nishtha\n",
      "24\n",
      "AP\n"
     ]
    }
   ],
   "source": [
    "diction={\n",
    "    'name':'Nishtha',\n",
    "    'age': 24,\n",
    "    'designtaion':'AP'\n",
    "}\n",
    "for i in  diction:\n",
    "    #print(i)\n",
    "    print(diction[i])"
   ]
  },
  {
   "cell_type": "code",
   "execution_count": 12,
   "id": "4f95dc55",
   "metadata": {},
   "outputs": [
    {
     "name": "stdout",
     "output_type": "stream",
     "text": [
      "dict_keys(['name', 'Code', 'Duration'])\n",
      "dict_values(['Python', 'BCC302', '4 months'])\n",
      "dict_items([('name', 'Python'), ('Code', 'BCC302'), ('Duration', '4 months')])\n"
     ]
    }
   ],
   "source": [
    "d={'name':'Python','Code':'BCC302','Duration':'4 months'}\n",
    "print(d.keys())\n",
    "print(d.values())\n",
    "print(d.items())"
   ]
  },
  {
   "cell_type": "code",
   "execution_count": null,
   "id": "abb9cefe",
   "metadata": {},
   "outputs": [],
   "source": []
  }
 ],
 "metadata": {
  "kernelspec": {
   "display_name": "Python 3 (ipykernel)",
   "language": "python",
   "name": "python3"
  },
  "language_info": {
   "codemirror_mode": {
    "name": "ipython",
    "version": 3
   },
   "file_extension": ".py",
   "mimetype": "text/x-python",
   "name": "python",
   "nbconvert_exporter": "python",
   "pygments_lexer": "ipython3",
   "version": "3.9.7"
  }
 },
 "nbformat": 4,
 "nbformat_minor": 5
}
