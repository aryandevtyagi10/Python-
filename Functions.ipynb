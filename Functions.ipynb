{
 "cells": [
  {
   "cell_type": "code",
   "execution_count": 77,
   "id": "5895879a",
   "metadata": {},
   "outputs": [
    {
     "name": "stdout",
     "output_type": "stream",
     "text": [
      "Hello\n",
      "None\n"
     ]
    }
   ],
   "source": [
    "def printme(str):\n",
    "    \n",
    "    print(str)\n",
    "    #return str\n",
    "a=printme(\"Hello\")\n",
    "print(a)"
   ]
  },
  {
   "cell_type": "code",
   "execution_count": null,
   "id": "0c8cf60c",
   "metadata": {},
   "outputs": [
    {
     "name": "stdout",
     "output_type": "stream",
     "text": [
      "7\n",
      "This function adds two numbers\n"
     ]
    }
   ],
   "source": [
    "def add(a,b):\n",
    "    '''This function adds two numbers'''\n",
    "    return a+b\n",
    "a=add(3,4)\n",
    "print(a)\n",
    "print(add.__doc__)"
   ]
  },
  {
   "cell_type": "code",
   "execution_count": 4,
   "id": "fe7d2686",
   "metadata": {},
   "outputs": [
    {
     "name": "stdout",
     "output_type": "stream",
     "text": [
      "22\n"
     ]
    }
   ],
   "source": [
    "def add(*values):\n",
    "    print(sum(values))\n",
    "add(1,6,7,8)"
   ]
  },
  {
   "cell_type": "code",
   "execution_count": 76,
   "id": "cd20c0a1",
   "metadata": {},
   "outputs": [
    {
     "data": {
      "text/plain": [
       "2.5"
      ]
     },
     "execution_count": 76,
     "metadata": {},
     "output_type": "execute_result"
    }
   ],
   "source": [
    "count=0\n",
    "def avg(*values):\n",
    "    global count\n",
    "    for i in values:\n",
    "        count+=1\n",
    "    average=sum(values)/count\n",
    "    return average\n",
    "avg(1,2,3,4)\n",
    "    \n",
    "    "
   ]
  },
  {
   "cell_type": "code",
   "execution_count": 20,
   "id": "64863fb3",
   "metadata": {},
   "outputs": [
    {
     "data": {
      "text/plain": [
       "9"
      ]
     },
     "execution_count": 20,
     "metadata": {},
     "output_type": "execute_result"
    }
   ],
   "source": [
    "#Calculate absolute of a value using function\n",
    "def absolute(a):\n",
    "    if a>=0:\n",
    "        return a\n",
    "    else:\n",
    "        return -a\n",
    "absolute(9)\n"
   ]
  },
  {
   "cell_type": "markdown",
   "id": "7b2ebbb9",
   "metadata": {},
   "source": [
    "# Importance of 'Return'"
   ]
  },
  {
   "cell_type": "code",
   "execution_count": 73,
   "id": "8a9a98e0",
   "metadata": {},
   "outputs": [
    {
     "name": "stdout",
     "output_type": "stream",
     "text": [
      "Simple Interest is  1822.5\n"
     ]
    }
   ],
   "source": [
    "def simple_interest(p,n,r):\n",
    "    si=(p*n*r)/100\n",
    "    print('Simple Interest is ', si)\n",
    "p=9000\n",
    "n=9\n",
    "r=2.25\n",
    "simple_interest(p,n,r)\n",
    "#Total_amount=p+si # generates error as si is not defined\n",
    "#print(Total_amount)"
   ]
  },
  {
   "cell_type": "code",
   "execution_count": 74,
   "id": "b80ebac8",
   "metadata": {},
   "outputs": [
    {
     "name": "stdout",
     "output_type": "stream",
     "text": [
      "10822.5\n"
     ]
    }
   ],
   "source": [
    "def simple_interest(p,n,r):\n",
    "    si=(p*n*r)/100\n",
    "    return si\n",
    "p=9000\n",
    "n=9\n",
    "r=2.25\n",
    "a=simple_interest(p,n,r)\n",
    "Total_amount=p+a\n",
    "print(Total_amount)"
   ]
  },
  {
   "cell_type": "markdown",
   "id": "27141d91",
   "metadata": {},
   "source": [
    "# Pass/Call by Object Reference"
   ]
  },
  {
   "cell_type": "markdown",
   "id": "43dbd242",
   "metadata": {},
   "source": [
    "A reference (memory address) to the actual variable is passed to the function.\n",
    "Changes made to the parameter inside the function affect the original variable.(different in case of mutable and immutable)\n",
    "Uses less memory as no new copy is created; only a reference is passed."
   ]
  },
  {
   "cell_type": "code",
   "execution_count": 69,
   "id": "fae9f0f3",
   "metadata": {},
   "outputs": [
    {
     "name": "stdout",
     "output_type": "stream",
     "text": [
      "10 2506748553808\n",
      "20 2506748554128\n",
      "10 2506748553808\n"
     ]
    }
   ],
   "source": [
    "#If object is immutable(strings,int,tuple,float) then the modified value is not available outside the function\n",
    "x=10\n",
    "def val(x):\n",
    "    print(x,id(x))\n",
    "    x=20 #A new object will be created in the memory since integer objects are immutable\n",
    "    print(x,id(x))\n",
    "\n",
    "val(10)\n",
    "print(x,id(x))"
   ]
  },
  {
   "cell_type": "code",
   "execution_count": 56,
   "id": "a02b787e",
   "metadata": {},
   "outputs": [
    {
     "name": "stdout",
     "output_type": "stream",
     "text": [
      "[1, 2, 3] 2506829803264\n",
      "[1, 2, 3, 4] 2506829803264\n",
      "[1, 2, 3, 4] 2506829803264\n"
     ]
    }
   ],
   "source": [
    "#If object is mutable then the modified value is available outside the function\n",
    "lst=[1,2,3]\n",
    "def val(lst):\n",
    "    print(lst,id(lst))\n",
    "    lst.append(4) #A new object will not be created in the memory since list objects are mutable\n",
    "    print(lst,id(lst))\n",
    "\n",
    "\n",
    "val(lst)\n",
    "print(lst,id(lst))"
   ]
  },
  {
   "cell_type": "markdown",
   "id": "face7ca9",
   "metadata": {},
   "source": [
    "# Local and Global Identifiers"
   ]
  },
  {
   "cell_type": "code",
   "execution_count": 8,
   "id": "db06ca58",
   "metadata": {},
   "outputs": [
    {
     "name": "stdout",
     "output_type": "stream",
     "text": [
      "Inside function, z = 235\n"
     ]
    }
   ],
   "source": [
    "# Local Identifiers \n",
    "''' A local identifier (or local variable) is defined within a function and can only be accessed \n",
    "inside that function. Once the function finishes execution, the local variable is no longer accessible.'''\n",
    "\n",
    "def my_function():\n",
    "    z = 235  # Local variable 'x'\n",
    "    print(\"Inside function, z =\", z)\n",
    "\n",
    "my_function()\n",
    "#print(z)  # This will cause an error because 'x' is not accessible outside the function.\n"
   ]
  },
  {
   "cell_type": "code",
   "execution_count": 66,
   "id": "252282bb",
   "metadata": {},
   "outputs": [
    {
     "name": "stdout",
     "output_type": "stream",
     "text": [
      "Inside function, y = 30\n",
      "Outside function, y = 30\n"
     ]
    }
   ],
   "source": [
    "#Global Identifiers\n",
    "'''A global identifier (or global variable) is defined outside of any function \n",
    "and can be accessed from anywhere in the code, including within functions. \n",
    "However, if you want to modify a global variable inside a function, \n",
    "you need to use the global keyword to tell Python that you are referring to the global variable \n",
    "and not creating a new local variable with the same name.''' \n",
    "\n",
    "y = 20  # Global variable 'y'\n",
    "\n",
    "def my_function():\n",
    "    global y  # Declare that we're using the global 'y'\n",
    "    y = 30  # Modifying the global variable\n",
    "    print(\"Inside function, y =\", y)\n",
    "\n",
    "my_function()\n",
    "print(\"Outside function, y =\", y)\n"
   ]
  },
  {
   "cell_type": "markdown",
   "id": "4191be28",
   "metadata": {},
   "source": [
    "# Types of Function Arguments:\n",
    "\n",
    "1. Default Arguments\n",
    "2. Keyword Arguments\n",
    "3. Required Arguments\n",
    "4. Variable Length Arguments(*args)\n",
    "5. Keyword Variable Length Arguments(**kwargs)"
   ]
  },
  {
   "cell_type": "code",
   "execution_count": 8,
   "id": "5f4a6124",
   "metadata": {},
   "outputs": [
    {
     "name": "stdout",
     "output_type": "stream",
     "text": [
      "Addition is: 9\n"
     ]
    }
   ],
   "source": [
    "# Default Arguments\n",
    "# We can provide a default value while creating a function.\n",
    "# This way the function assumes a default value even if a value \n",
    "#is not provided in the function call for that argument.\n",
    "\n",
    "def addition(a,b=4):\n",
    "    print('Addition is:', a+b)\n",
    "    \n",
    "addition(5) #default value of b is given in function definition"
   ]
  },
  {
   "cell_type": "code",
   "execution_count": 1,
   "id": "fe6f6a09",
   "metadata": {},
   "outputs": [
    {
     "name": "stdout",
     "output_type": "stream",
     "text": [
      "average is: 6.0\n"
     ]
    }
   ],
   "source": [
    "def average(a=2,b=4):\n",
    "    print(\"average is:\", (a+b)/2)\n",
    "    \n",
    "average() # default values of a, b are given in the function definition"
   ]
  },
  {
   "cell_type": "code",
   "execution_count": 23,
   "id": "6252603b",
   "metadata": {},
   "outputs": [
    {
     "name": "stdout",
     "output_type": "stream",
     "text": [
      "average is: 4.0\n"
     ]
    }
   ],
   "source": [
    "def average(a=2,b=2):\n",
    "    print('average is:', (a+b)/2)\n",
    "\n",
    "average(4,4)"
   ]
  },
  {
   "cell_type": "code",
   "execution_count": 2,
   "id": "abb58659",
   "metadata": {},
   "outputs": [
    {
     "name": "stdout",
     "output_type": "stream",
     "text": [
      "17\n"
     ]
    }
   ],
   "source": [
    "# Keyword Arguments:\n",
    "''' We can provide the arguments with key=value, \n",
    "this way the interpreter recognizes the arguments by the parameter names.\n",
    "Hence, the order in which arguments are passed doesn't matter.'''\n",
    "\n",
    "def addition(a,b,c,d):\n",
    "    print(a+b+c+d)\n",
    "\n",
    "addition(c=7,b=5,a=3,d=2)"
   ]
  },
  {
   "cell_type": "code",
   "execution_count": 25,
   "id": "8f46269b",
   "metadata": {},
   "outputs": [
    {
     "ename": "TypeError",
     "evalue": "addition() missing 1 required positional argument: 'c'",
     "output_type": "error",
     "traceback": [
      "\u001b[1;31m---------------------------------------------------------------------------\u001b[0m",
      "\u001b[1;31mTypeError\u001b[0m                                 Traceback (most recent call last)",
      "\u001b[1;32mC:\\Users\\NISHTH~1\\AppData\\Local\\Temp/ipykernel_27520/3941276034.py\u001b[0m in \u001b[0;36m<module>\u001b[1;34m\u001b[0m\n\u001b[0;32m      5\u001b[0m \u001b[1;32mdef\u001b[0m \u001b[0maddition\u001b[0m\u001b[1;33m(\u001b[0m\u001b[0ma\u001b[0m\u001b[1;33m,\u001b[0m\u001b[0mb\u001b[0m\u001b[1;33m,\u001b[0m\u001b[0mc\u001b[0m\u001b[1;33m)\u001b[0m\u001b[1;33m:\u001b[0m\u001b[1;33m\u001b[0m\u001b[1;33m\u001b[0m\u001b[0m\n\u001b[0;32m      6\u001b[0m     \u001b[0mprint\u001b[0m\u001b[1;33m(\u001b[0m\u001b[0ma\u001b[0m\u001b[1;33m+\u001b[0m\u001b[0mb\u001b[0m\u001b[1;33m+\u001b[0m\u001b[0mc\u001b[0m\u001b[1;33m)\u001b[0m\u001b[1;33m\u001b[0m\u001b[1;33m\u001b[0m\u001b[0m\n\u001b[1;32m----> 7\u001b[1;33m \u001b[0maddition\u001b[0m\u001b[1;33m(\u001b[0m\u001b[1;36m2\u001b[0m\u001b[1;33m,\u001b[0m\u001b[1;36m3\u001b[0m\u001b[1;33m)\u001b[0m\u001b[1;33m\u001b[0m\u001b[1;33m\u001b[0m\u001b[0m\n\u001b[0m",
      "\u001b[1;31mTypeError\u001b[0m: addition() missing 1 required positional argument: 'c'"
     ]
    }
   ],
   "source": [
    "# Required Arguments/Positional Arguments:\n",
    "#In case we don't pass the arguments with a key=value syntaxit is necessary \n",
    "#to pass the arguments in the correct positional order.\n",
    "#Number of arguments passed should match with actual function definition.\n",
    "\n",
    "def addition(a,b,c):\n",
    "    print(a+b+c)\n",
    "addition(2,3)\n"
   ]
  },
  {
   "cell_type": "code",
   "execution_count": 10,
   "id": "d30cf046",
   "metadata": {},
   "outputs": [
    {
     "name": "stdout",
     "output_type": "stream",
     "text": [
      "My name is 18. I am Ayush years old.\n"
     ]
    }
   ],
   "source": [
    "def display(name,age):\n",
    "    print(f\"My name is {name}. I am {age} years old.\")\n",
    "display(18,'Ayush')"
   ]
  },
  {
   "cell_type": "code",
   "execution_count": 4,
   "id": "2d8a328f",
   "metadata": {},
   "outputs": [
    {
     "name": "stdout",
     "output_type": "stream",
     "text": [
      "Hello Ankita!\n",
      "Hello Aman!\n",
      "Hello Ayush!\n",
      "Hello Sameer!\n"
     ]
    }
   ],
   "source": [
    "# Variable Length Arguments(*args):\n",
    "# Use *args to allow a function to accept any number of positional arguments.\n",
    "# This is useful when you don't know beforehand how many arguments will be paased.\n",
    "\n",
    "def greet(*names):\n",
    "    for name in names:\n",
    "        print(f\"Hello {name}!\")\n",
    "greet('Ankita', 'Aman', 'Ayush','Sameer')"
   ]
  },
  {
   "cell_type": "code",
   "execution_count": 32,
   "id": "cd7e405b",
   "metadata": {},
   "outputs": [
    {
     "name": "stdout",
     "output_type": "stream",
     "text": [
      "name:Alice\n",
      "age:30\n",
      "hobby:painting\n"
     ]
    }
   ],
   "source": [
    "# Keyword Variable Length Arguments(**kwargs):\n",
    "# Use **kwargs to accept any number of keyword arguments(a dictionary)\n",
    "# useful for passing a flexible number of named arguments.\n",
    "\n",
    "def describe_person(**info):\n",
    "    for key,value in info.items():\n",
    "        print(f'{key}:{value}')\n",
    "describe_person(name='Alice',age=30,hobby='painting')"
   ]
  },
  {
   "cell_type": "code",
   "execution_count": 37,
   "id": "556dc1bd",
   "metadata": {},
   "outputs": [
    {
     "data": {
      "text/plain": [
       "'Found'"
      ]
     },
     "execution_count": 37,
     "metadata": {},
     "output_type": "execute_result"
    }
   ],
   "source": [
    "# Linear Search\n",
    "\n",
    "def LinearSearch(lst,n):\n",
    "    for i in range(len(lst)):\n",
    "        if i==n:\n",
    "            return 'Found'\n",
    "    return 'Not Found'\n",
    "lst=[8,6,6,5,4]\n",
    "n=4\n",
    "LinearSearch(lst,4)"
   ]
  },
  {
   "cell_type": "code",
   "execution_count": 46,
   "id": "2f0b777b",
   "metadata": {},
   "outputs": [
    {
     "name": "stdout",
     "output_type": "stream",
     "text": [
      "4 found at position 3\n"
     ]
    }
   ],
   "source": [
    "# Linear Search-return element with its index  \n",
    "def LinearSearch(lst,n):\n",
    "    for index,element in enumerate(lst):\n",
    "        if element==n:  # Target found, return its index\n",
    "            return index  # Target not found in the list\n",
    "    return -1\n",
    "lst=[8,6,4]\n",
    "n=4\n",
    "reult= LinearSearch(lst,n)\n",
    "if result==-1:\n",
    "    print('Element not found')\n",
    "else:\n",
    "    print(f'{n} found at position {result}')"
   ]
  },
  {
   "cell_type": "code",
   "execution_count": null,
   "id": "e69677f1",
   "metadata": {},
   "outputs": [],
   "source": [
    "def LinearSearch(lst,n):\n",
    "    "
   ]
  },
  {
   "cell_type": "code",
   "execution_count": 7,
   "id": "2a02cb3a",
   "metadata": {},
   "outputs": [
    {
     "name": "stdout",
     "output_type": "stream",
     "text": [
      "12 found at index 2\n"
     ]
    }
   ],
   "source": [
    "# Binary Search\n",
    "\n",
    "def BinarySearch(lst,n):\n",
    "    L=0\n",
    "    U=len(lst)-1\n",
    "    while L<=U:\n",
    "        mid=(L+U)//2\n",
    "        if lst[mid]==n:\n",
    "            return mid\n",
    "        elif lst[mid]<n:\n",
    "            L=mid+1\n",
    "        else:\n",
    "            U=mid-1\n",
    "    return -1\n",
    "lst=[2,8,12,17,18,24,36,40]\n",
    "n=12\n",
    "result=BinarySearch(lst,n)\n",
    "if result==-1:\n",
    "    print('Element not found')\n",
    "else:\n",
    "    print(f'{n} found at index {result}')\n",
    "        "
   ]
  },
  {
   "cell_type": "code",
   "execution_count": 1,
   "id": "820bc99d",
   "metadata": {},
   "outputs": [],
   "source": [
    "#Sorting techniques\n",
    "# Bubble Sort\n",
    "def bubble_sort(arr):\n",
    "    \"\"\"\n",
    "    Sorts an array by repeatedly swapping adjacent elements if they are in the wrong order.\n",
    "    Time Complexity: O(n^2) in the worst case.\n",
    "    \"\"\"\n",
    "    n = len(arr)\n",
    "    for i in range(n):\n",
    "        for j in range(0, n-i-1):\n",
    "            if arr[j] > arr[j+1]:\n",
    "                arr[j], arr[j+1] = arr[j+1], arr[j]\n",
    "\n",
    "# Selection Sort\n",
    "def selection_sort(arr):\n",
    "    \"\"\"\n",
    "    Sorts an array by repeatedly finding the minimum element and placing it at the beginning.\n",
    "    Time Complexity: O(n^2).\n",
    "    \"\"\"\n",
    "    n = len(arr)\n",
    "    for i in range(n):\n",
    "        min_idx = i\n",
    "        for j in range(i+1, n):\n",
    "            if arr[j] < arr[min_idx]:\n",
    "                min_idx = j\n",
    "        arr[i], arr[min_idx] = arr[min_idx], arr[i]\n",
    "\n",
    "# Insertion Sort\n",
    "def insertion_sort(arr):\n",
    "    \"\"\"\n",
    "    Builds a sorted array one element at a time by inserting elements in their correct position.\n",
    "    Time Complexity: O(n^2) in the worst case.\n",
    "    \"\"\"\n",
    "    for i in range(1, len(arr)):\n",
    "        key = arr[i]\n",
    "        j = i-1\n",
    "        while j >= 0 and key < arr[j]:\n",
    "            arr[j+1] = arr[j]\n",
    "            j -= 1\n",
    "        arr[j+1] = key\n",
    "\n",
    "# Merge Sort\n",
    "def merge_sort(arr):\n",
    "    \"\"\"\n",
    "    Uses a divide-and-conquer approach to recursively split and merge arrays.\n",
    "    Time Complexity: O(n log n).\n",
    "    \"\"\"\n",
    "    if len(arr) > 1:\n",
    "        mid = len(arr) // 2\n",
    "        L = arr[:mid]\n",
    "        R = arr[mid:]\n",
    "\n",
    "        # Recursively split and sort both halves\n",
    "        merge_sort(L)\n",
    "        merge_sort(R)\n",
    "\n",
    "        i = j = k = 0\n",
    "        while i < len(L) and j < len(R):\n",
    "            if L[i] < R[j]:\n",
    "                arr[k] = L[i]\n",
    "                i += 1\n",
    "            else:\n",
    "                arr[k] = R[j]\n",
    "                j += 1\n",
    "            k += 1\n",
    "\n",
    "        # Copy remaining elements\n",
    "        while i < len(L):\n",
    "            arr[k] = L[i]\n",
    "            i += 1\n",
    "            k += 1\n",
    "        while j < len(R):\n",
    "            arr[k] = R[j]\n",
    "            j += 1\n",
    "            k += 1\n",
    "\n",
    "# Quick Sort\n",
    "def quick_sort(arr):\n",
    "    \"\"\"\n",
    "    Uses a divide-and-conquer strategy by partitioning the array around a pivot.\n",
    "    Time Complexity: O(n log n) on average.\n",
    "    \"\"\"\n",
    "    if len(arr) <= 1:\n",
    "        return arr\n",
    "    else:\n",
    "        pivot = arr[0]\n",
    "        less = [x for x in arr[1:] if x <= pivot]\n",
    "        greater = [x for x in arr[1:] if x > pivot]\n",
    "        return quick_sort(less) + [pivot] + quick_sort(greater)\n",
    "\n",
    "# Heap Sort\n",
    "def heapify(arr, n, i):\n",
    "    \"\"\"\n",
    "    Helper function to maintain the heap property.\n",
    "    \"\"\"\n",
    "    largest = i\n",
    "    left = 2 * i + 1\n",
    "    right = 2 * i + 2\n",
    "\n",
    "    if left < n and arr[left] > arr[largest]:\n",
    "        largest = left\n",
    "\n",
    "    if right < n and arr[right] > arr[largest]:\n",
    "        largest = right\n",
    "\n",
    "    if largest != i:\n",
    "        arr[i], arr[largest] = arr[largest], arr[i]\n",
    "        heapify(arr, n, largest)\n",
    "\n",
    "def heap_sort(arr):\n",
    "    \"\"\"\n",
    "    Sorts an array using a binary heap.\n",
    "    Time Complexity: O(n log n).\n",
    "    \"\"\"\n",
    "    n = len(arr)\n",
    "\n",
    "    # Build a max heap\n",
    "    for i in range(n // 2 - 1, -1, -1):\n",
    "        heapify(arr, n, i)\n",
    "\n",
    "    # Extract elements one by one\n",
    "    for i in range(n-1, 0, -1):\n",
    "        arr[i], arr[0] = arr[0], arr[i]\n",
    "        heapify(arr, i, 0)\n",
    "\n"
   ]
  },
  {
   "cell_type": "code",
   "execution_count": null,
   "id": "11f3f0e5",
   "metadata": {},
   "outputs": [],
   "source": []
  }
 ],
 "metadata": {
  "kernelspec": {
   "display_name": "Python 3 (ipykernel)",
   "language": "python",
   "name": "python3"
  },
  "language_info": {
   "codemirror_mode": {
    "name": "ipython",
    "version": 3
   },
   "file_extension": ".py",
   "mimetype": "text/x-python",
   "name": "python",
   "nbconvert_exporter": "python",
   "pygments_lexer": "ipython3",
   "version": "3.9.7"
  }
 },
 "nbformat": 4,
 "nbformat_minor": 5
}
