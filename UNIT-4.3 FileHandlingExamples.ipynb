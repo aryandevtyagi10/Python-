{
 "cells": [
  {
   "cell_type": "code",
   "execution_count": 2,
   "id": "21b584b6",
   "metadata": {},
   "outputs": [
    {
     "name": "stdout",
     "output_type": "stream",
     "text": [
      "6\n"
     ]
    }
   ],
   "source": [
    "#  Count how many times the letter 'a' appears in the file\n",
    "f=open('count.txt','r')\n",
    "data=f.read()\n",
    "f.close()\n",
    "countedStr=data.lower().count('a')\n",
    "print(countedStr)"
   ]
  },
  {
   "cell_type": "code",
   "execution_count": 8,
   "id": "26f13246",
   "metadata": {},
   "outputs": [
    {
     "name": "stdout",
     "output_type": "stream",
     "text": [
      "Wilcomi to python class\n"
     ]
    }
   ],
   "source": [
    "# Replace 'E' with 'I' in the content\n",
    "f=open('replace','w+')\n",
    "f.write('Welcome to python class')\n",
    "f.seek(0)\n",
    "data=f.read()\n",
    "f.close()\n",
    "replacedStr=data.upper().replace('E','I')\n",
    "print(replacedStr)"
   ]
  },
  {
   "cell_type": "code",
   "execution_count": 10,
   "id": "fe9ebf93",
   "metadata": {},
   "outputs": [
    {
     "name": "stdout",
     "output_type": "stream",
     "text": [
      "(7, 4)\n"
     ]
    }
   ],
   "source": [
    "#  Count uppercase characters and digits\n",
    "def count_upper_and_digits(filename):\n",
    "    file = open(filename, 'w+')\n",
    "    file.write('Achieve Your Goal 2025, Stay Focused Every Day.')\n",
    "    file.seek(0)\n",
    "    content = file.read()\n",
    "    file.close()\n",
    "\n",
    "    uppercase_count = 0\n",
    "    digit_count = 0\n",
    "    for char in content:\n",
    "        if char.isupper():\n",
    "            uppercase_count += 1\n",
    "        if char.isdigit():\n",
    "            digit_count += 1\n",
    "    return uppercase_count, digit_count\n",
    "\n",
    "\n",
    "print(count_upper_and_digits('CountChar'))\n"
   ]
  },
  {
   "cell_type": "code",
   "execution_count": 11,
   "id": "a3c819ec",
   "metadata": {},
   "outputs": [
    {
     "name": "stdout",
     "output_type": "stream",
     "text": [
      "15\n"
     ]
    }
   ],
   "source": [
    "# Count vowels in the file\n",
    "def count_vowels(filename):\n",
    "    file = open(filename, 'r')\n",
    "    content = file.read()\n",
    "    file.close()\n",
    "\n",
    "    vowels = 'aeiouAEIOU'\n",
    "    vowel_count = 0\n",
    "    for char in content:\n",
    "        if char in vowels:\n",
    "            vowel_count += 1\n",
    "    return vowel_count\n",
    "\n",
    "\n",
    "print(count_vowels('CountChar'))\n"
   ]
  },
  {
   "cell_type": "code",
   "execution_count": 12,
   "id": "24fbb58d",
   "metadata": {},
   "outputs": [
    {
     "name": "stdout",
     "output_type": "stream",
     "text": [
      "Count of IS: 2\n",
      "Count of TO: 3\n",
      "Count of UP: 1\n"
     ]
    }
   ],
   "source": [
    "# Count occurrences of 'IS', 'TO', 'UP'\n",
    "def ISTOUPCOUNT(filename):\n",
    "    file = open(filename, 'r')\n",
    "    content = file.read()\n",
    "    file.close()\n",
    "\n",
    "    words = content.upper().split()\n",
    "    count_is = 0\n",
    "    count_to = 0\n",
    "    count_up = 0\n",
    "\n",
    "    for word in words:\n",
    "        if word == 'IS':\n",
    "            count_is += 1\n",
    "        if word == 'TO':\n",
    "            count_to += 1\n",
    "        if word == 'UP':\n",
    "            count_up += 1\n",
    "\n",
    "    print(\"Count of IS:\", count_is)\n",
    "    print(\"Count of TO:\", count_to)\n",
    "    print(\"Count of UP:\", count_up)\n",
    "\n",
    "ISTOUPCOUNT('WRITER.TXT')\n"
   ]
  },
  {
   "cell_type": "code",
   "execution_count": 13,
   "id": "04cbeb46",
   "metadata": {},
   "outputs": [
    {
     "name": "stdout",
     "output_type": "stream",
     "text": [
      "A CLEAN ENVIRONMENT IS NECESSARY FOR OUR GOOD HEALTH.\n",
      "EDUCATIONAL INSTITUTIONS SHOULD TAKE THE LEAD.\n"
     ]
    }
   ],
   "source": [
    "# Display lines starting with 'A' or 'E'\n",
    "def COUNTAE(filename):\n",
    "    file = open(filename, 'r')\n",
    "    lines = file.readlines()\n",
    "    file.close()\n",
    "\n",
    "    for line in lines:\n",
    "        if line.strip().startswith('A') or line.strip().startswith('E'):\n",
    "            print(line.strip())\n",
    "\n",
    "\n",
    "COUNTAE('WRITER1.TXT')\n"
   ]
  },
  {
   "cell_type": "code",
   "execution_count": null,
   "id": "82528fa4",
   "metadata": {},
   "outputs": [],
   "source": []
  }
 ],
 "metadata": {
  "kernelspec": {
   "display_name": "Python 3 (ipykernel)",
   "language": "python",
   "name": "python3"
  },
  "language_info": {
   "codemirror_mode": {
    "name": "ipython",
    "version": 3
   },
   "file_extension": ".py",
   "mimetype": "text/x-python",
   "name": "python",
   "nbconvert_exporter": "python",
   "pygments_lexer": "ipython3",
   "version": "3.9.7"
  }
 },
 "nbformat": 4,
 "nbformat_minor": 5
}
