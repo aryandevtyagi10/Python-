{
 "cells": [
  {
   "cell_type": "markdown",
   "id": "ebc7a3cf",
   "metadata": {},
   "source": [
    "A tuple is an ordered, immutable collection of items. Tuples are similar to lists but with the key difference that their elements cannot be changed after they are created (i.e., they are immutable). Tuples are defined by placing elements inside parentheses () and separating them with commas.\n",
    "\n",
    "\n",
    "Properties of Tuples:\n",
    "Ordered: Elements have a specific order.\n",
    "Immutable: Once created, elements cannot be modified (no adding, removing, or changing items).\n",
    "Heterogeneous: A tuple can contain elements of different data types.\n",
    "Allows Duplicates: Tuples can contain duplicate elements."
   ]
  },
  {
   "cell_type": "code",
   "execution_count": 27,
   "id": "e457ea5c",
   "metadata": {},
   "outputs": [
    {
     "name": "stdout",
     "output_type": "stream",
     "text": [
      "<class 'tuple'>\n",
      "3\n",
      "<class 'tuple'>\n"
     ]
    }
   ],
   "source": [
    "a=()\n",
    "print(type(a))\n",
    "my_tuple = (1, 2, 3, \"Python\", 5.5)\n",
    "print(my_tuple[2])\n",
    "t=(20,)\n",
    "print(type(t))"
   ]
  },
  {
   "cell_type": "code",
   "execution_count": 4,
   "id": "94321126",
   "metadata": {},
   "outputs": [
    {
     "data": {
      "text/plain": [
       "5"
      ]
     },
     "execution_count": 4,
     "metadata": {},
     "output_type": "execute_result"
    }
   ],
   "source": [
    "#len(): Returns the length (number of items) in the tuple.\n",
    "len(my_tuple)  "
   ]
  },
  {
   "cell_type": "code",
   "execution_count": 9,
   "id": "05d109b1",
   "metadata": {},
   "outputs": [
    {
     "name": "stdout",
     "output_type": "stream",
     "text": [
      "3\n",
      "1\n"
     ]
    }
   ],
   "source": [
    "#max(): Returns the maximum value from the tuple (only if all elements are comparable, e.g., all numbers or all strings).\n",
    "my_tuple = (1,2,3)\n",
    "print(max(my_tuple)) \n",
    "\n",
    "# min(): Returns the minimum value from the tuple (only if all elements are comparable)\n",
    "print(min(my_tuple))  \n"
   ]
  },
  {
   "cell_type": "code",
   "execution_count": null,
   "id": "ddc1553b",
   "metadata": {},
   "outputs": [],
   "source": [
    "#any(): Returns True if any element in the tuple is True.\n",
    "my_tuple = (0, 1, 2)\n",
    "any(my_tuple)  # Output: True (since 1 and 2 are truthy)\n"
   ]
  },
  {
   "cell_type": "code",
   "execution_count": 28,
   "id": "e97bae67",
   "metadata": {},
   "outputs": [
    {
     "data": {
      "text/plain": [
       "False"
      ]
     },
     "execution_count": 28,
     "metadata": {},
     "output_type": "execute_result"
    }
   ],
   "source": [
    "#all(): Returns True if all elements in the tuple are True.\n",
    "my_tuple = (0,1, 2, 3)\n",
    "all(my_tuple)  # Output: True (since all are non-zero)\n"
   ]
  },
  {
   "cell_type": "code",
   "execution_count": 13,
   "id": "5c4ed7c0",
   "metadata": {},
   "outputs": [
    {
     "data": {
      "text/plain": [
       "[1, 2, 3]"
      ]
     },
     "execution_count": 13,
     "metadata": {},
     "output_type": "execute_result"
    }
   ],
   "source": [
    "#sorted(): Returns a sorted list of the tuple’s elements (does not modify the tuple itself).\n",
    "my_tuple = (3, 1, 2)\n",
    "sorted(my_tuple)\n"
   ]
  },
  {
   "cell_type": "code",
   "execution_count": 30,
   "id": "d64bd3e4",
   "metadata": {},
   "outputs": [
    {
     "data": {
      "text/plain": [
       "(1, 2, 3)"
      ]
     },
     "execution_count": 30,
     "metadata": {},
     "output_type": "execute_result"
    }
   ],
   "source": [
    "#tuple(): Converts an iterable (such as a list or string) into a tuple.\n",
    "tuple([1,2,3])\n",
    "\n"
   ]
  },
  {
   "cell_type": "code",
   "execution_count": 20,
   "id": "eeb33359",
   "metadata": {},
   "outputs": [
    {
     "data": {
      "text/plain": [
       "2"
      ]
     },
     "execution_count": 20,
     "metadata": {},
     "output_type": "execute_result"
    }
   ],
   "source": [
    "#count(x): Returns the number of times x appears in the tuple.\n",
    "\n",
    "my_tuple = (1, 2, 2, 3)\n",
    "my_tuple.count(2) \n"
   ]
  },
  {
   "cell_type": "code",
   "execution_count": 22,
   "id": "13a9532c",
   "metadata": {},
   "outputs": [
    {
     "data": {
      "text/plain": [
       "1"
      ]
     },
     "execution_count": 22,
     "metadata": {},
     "output_type": "execute_result"
    }
   ],
   "source": [
    "#index(x): Returns the index of the first occurrence of x in the tuple.\n",
    "my_tuple = (1, 2, 3, 2)\n",
    "my_tuple.index(2)   \n"
   ]
  },
  {
   "cell_type": "code",
   "execution_count": null,
   "id": "27d894e9",
   "metadata": {},
   "outputs": [],
   "source": [
    "#Accessing Tuple Elements: You can access elements using indexing and slicing.\n",
    "my_tuple = (1, 2, 3, 4)\n",
    "print(my_tuple[1])   # Output: 2 (indexing)\n",
    "print(my_tuple[1:3]) # Output: (2, 3) (slicing)\n",
    "\n"
   ]
  },
  {
   "cell_type": "code",
   "execution_count": null,
   "id": "fad26691",
   "metadata": {},
   "outputs": [],
   "source": [
    "#Tuple Packing and Unpacking:"
   ]
  },
  {
   "cell_type": "code",
   "execution_count": 23,
   "id": "c2583cda",
   "metadata": {},
   "outputs": [
    {
     "data": {
      "text/plain": [
       "tuple"
      ]
     },
     "execution_count": 23,
     "metadata": {},
     "output_type": "execute_result"
    }
   ],
   "source": [
    "#Packing: Assigning multiple values to a tuple.\n",
    "my_tuple = 1, 2, \"Python\" \n",
    "type(my_tuple)"
   ]
  },
  {
   "cell_type": "code",
   "execution_count": null,
   "id": "49c881e9",
   "metadata": {},
   "outputs": [],
   "source": [
    "#Unpacking: Assigning tuple values to variables.\n",
    "a, b, c = my_tuple\n",
    "print(a, b, c)  \n"
   ]
  },
  {
   "cell_type": "code",
   "execution_count": 33,
   "id": "13640b80",
   "metadata": {},
   "outputs": [
    {
     "name": "stdout",
     "output_type": "stream",
     "text": [
      "[3, 4]\n",
      "3\n",
      "(1, 2, [3, 4, 5])\n"
     ]
    }
   ],
   "source": [
    "#In Python, tuples can contain any kind of data type, including other tuples, lists, and even dictionaries.\n",
    "#This flexibility makes tuples a powerful data structure for various use cases.\n",
    "# Lists Inside Tuples\n",
    "\n",
    "my_tuple = (1, 2, [3, 4])\n",
    "\n",
    "# Accessing the list inside the tuple\n",
    "print(my_tuple[2])  \n",
    "print(my_tuple[2][0])\n",
    "# Modifying the list inside the tuple\n",
    "my_tuple[2].append(5)\n",
    "print(my_tuple) \n",
    "\n"
   ]
  },
  {
   "cell_type": "code",
   "execution_count": null,
   "id": "0ab261ce",
   "metadata": {},
   "outputs": [],
   "source": [
    "# Tuple inside a tuple\n",
    "\n",
    "my_tuple = (1, 2, (3, 4))\n",
    "\n",
    "# Accessing elements inside the nested tuple\n",
    "print(my_tuple[2])      # Output: (3, 4)\n",
    "print(my_tuple[2][1])   # Output: 4\n"
   ]
  },
  {
   "cell_type": "code",
   "execution_count": null,
   "id": "2690fa18",
   "metadata": {},
   "outputs": [],
   "source": [
    "# Various data types inside a tuple\n",
    "\n",
    "my_tuple = (1, \"Python\", [2, 3], {'key': 'value'}, (5.5, 6.6))\n",
    "\n",
    "# Accessing different elements\n",
    "print(my_tuple[1])      \n",
    "print(my_tuple[2])      \n",
    "print(my_tuple[3])      \n",
    "print(my_tuple[4])      \n"
   ]
  },
  {
   "cell_type": "code",
   "execution_count": null,
   "id": "623cf010",
   "metadata": {},
   "outputs": [],
   "source": [
    "# Immutable Nature of Tuples with Mutable Elements\n",
    "#Even though tuples themselves are immutable, mutable objects like lists or dictionaries inside them can still be modified.\n",
    "# Tuple with a dictionary\n",
    "my_tuple = (1, {\"name\": \"Alice\", \"age\": 25})\n",
    "\n",
    "# Modifying the dictionary inside the tuple\n",
    "my_tuple[1][\"age\"] = 26\n",
    "print(my_tuple)  \n"
   ]
  },
  {
   "cell_type": "code",
   "execution_count": 5,
   "id": "e1a4daa5",
   "metadata": {},
   "outputs": [
    {
     "name": "stdout",
     "output_type": "stream",
     "text": [
      "(3, 4, 1)\n"
     ]
    }
   ],
   "source": [
    "t=(1,4,3)\n",
    "print(tuple(reversed(t)))\n",
    "#print(t)"
   ]
  },
  {
   "cell_type": "code",
   "execution_count": 4,
   "id": "a7de40f7",
   "metadata": {},
   "outputs": [
    {
     "data": {
      "text/plain": [
       "(3, 4, 1)"
      ]
     },
     "execution_count": 4,
     "metadata": {},
     "output_type": "execute_result"
    }
   ],
   "source": [
    "t[::-1]"
   ]
  },
  {
   "cell_type": "code",
   "execution_count": null,
   "id": "2657b426",
   "metadata": {},
   "outputs": [],
   "source": []
  }
 ],
 "metadata": {
  "kernelspec": {
   "display_name": "Python 3 (ipykernel)",
   "language": "python",
   "name": "python3"
  },
  "language_info": {
   "codemirror_mode": {
    "name": "ipython",
    "version": 3
   },
   "file_extension": ".py",
   "mimetype": "text/x-python",
   "name": "python",
   "nbconvert_exporter": "python",
   "pygments_lexer": "ipython3",
   "version": "3.9.7"
  }
 },
 "nbformat": 4,
 "nbformat_minor": 5
}
