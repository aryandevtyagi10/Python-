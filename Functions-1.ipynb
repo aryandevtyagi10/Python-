{
 "cells": [
  {
   "cell_type": "code",
   "execution_count": 3,
   "id": "80551f85",
   "metadata": {},
   "outputs": [
    {
     "name": "stdout",
     "output_type": "stream",
     "text": [
      "l&e&a&r&n&.\n"
     ]
    }
   ],
   "source": [
    "def count(s):\n",
    "    for str in s.split():\n",
    "        s = \"&\".join(str)\n",
    "    return s\n",
    "\n",
    "print(count(\"Python is fun to learn.\"))\n"
   ]
  },
  {
   "cell_type": "code",
   "execution_count": null,
   "id": "fe83a252",
   "metadata": {},
   "outputs": [],
   "source": [
    "'''Construct a function perfect_square(number) that returns a number if it is a perfect square; otherwise, it returns -1.\n",
    "For example:\n",
    "perfect_square(1) returns 1.\n",
    "perfect_square(2) returns -1.'''"
   ]
  },
  {
   "cell_type": "code",
   "execution_count": 1,
   "id": "508db29a",
   "metadata": {},
   "outputs": [
    {
     "name": "stdout",
     "output_type": "stream",
     "text": [
      "1\n",
      "-1\n",
      "9\n",
      "16\n",
      "-1\n"
     ]
    }
   ],
   "source": [
    "def perfect_square(number):\n",
    "    # Check if the square root of the number is an integer\n",
    "    if number >= 0 and (number**0.5).is_integer():\n",
    "        return number\n",
    "    else:\n",
    "        return -1\n",
    "\n",
    "# Test cases\n",
    "print(perfect_square(1))  # Output: 1 (1 is a perfect square)\n",
    "print(perfect_square(2))  # Output: -1 (2 is not a perfect square)\n",
    "print(perfect_square(9))  # Output: 9 (9 is a perfect square)\n",
    "print(perfect_square(16)) # Output: 16 (16 is a perfect square)\n",
    "print(perfect_square(-4)) # Output: -1 (negative numbers are not perfect squares)\n"
   ]
  },
  {
   "cell_type": "markdown",
   "id": "2620c364",
   "metadata": {},
   "source": [
    "# RECURSION"
   ]
  },
  {
   "cell_type": "code",
   "execution_count": null,
   "id": "3030a34f",
   "metadata": {},
   "outputs": [],
   "source": [
    "'''Recursion is a programming technique where a function calls itself \n",
    "to solve a smaller instance of the same problem. \n",
    "It's especially useful for problems that can be \n",
    "divided into smaller sub-problems of the same type. '''"
   ]
  },
  {
   "cell_type": "code",
   "execution_count": 1,
   "id": "f84a5842",
   "metadata": {},
   "outputs": [],
   "source": [
    "# Infinite Recursion:\n",
    "def display():\n",
    "    print(\"HELLO!\")\n",
    "    display()\n",
    "    \n",
    "display()"
   ]
  },
  {
   "cell_type": "code",
   "execution_count": 5,
   "id": "1e21be96",
   "metadata": {},
   "outputs": [
    {
     "name": "stdout",
     "output_type": "stream",
     "text": [
      "None\n"
     ]
    }
   ],
   "source": [
    "import sys\n",
    "\n",
    "count=0\n",
    "def display():\n",
    "    global count\n",
    "    count+=1\n",
    "    print(\"HELLO!\", count)\n",
    "    display()\n",
    "print(sys.setrecursionlimit(100))  \n",
    "\n",
    "#display() #causes infinite recursive calls"
   ]
  },
  {
   "cell_type": "code",
   "execution_count": 1,
   "id": "e53c4fa5",
   "metadata": {},
   "outputs": [
    {
     "name": "stdout",
     "output_type": "stream",
     "text": [
      "3000\n"
     ]
    }
   ],
   "source": [
    "import sys\n",
    "print(sys.getrecursionlimit())"
   ]
  },
  {
   "cell_type": "code",
   "execution_count": 3,
   "id": "769791c6",
   "metadata": {},
   "outputs": [
    {
     "data": {
      "text/plain": [
       "720"
      ]
     },
     "execution_count": 3,
     "metadata": {},
     "output_type": "execute_result"
    }
   ],
   "source": [
    "# Factorial using recursion\n",
    "\n",
    "def fact(n):\n",
    "    if n==1 or n==0:\n",
    "        return 1\n",
    "    else:\n",
    "        return n*fact(n-1)\n",
    "    \n",
    "fact(6)"
   ]
  },
  {
   "cell_type": "code",
   "execution_count": 10,
   "id": "c92fe038",
   "metadata": {},
   "outputs": [
    {
     "data": {
      "text/plain": [
       "15"
      ]
     },
     "execution_count": 10,
     "metadata": {},
     "output_type": "execute_result"
    }
   ],
   "source": [
    "#Sum of n natural numbers using recursion:\n",
    "\n",
    "def sumofnum(n):\n",
    "    if n==1:\n",
    "        return 1\n",
    "    else:\n",
    "        return n+sumofnum(n-1)\n",
    "sumofnum(5)"
   ]
  },
  {
   "cell_type": "code",
   "execution_count": 3,
   "id": "123255ed",
   "metadata": {},
   "outputs": [
    {
     "name": "stdout",
     "output_type": "stream",
     "text": [
      "5\n",
      "0.0\n"
     ]
    }
   ],
   "source": [
    "# Fibonacci Series recursive approach\n",
    "import time\n",
    "def fib(n):\n",
    "    if n==0 or n==1:\n",
    "        return n\n",
    "    else:\n",
    "        return fib(n-1)+fib(n-2)\n",
    "start_time = time.time()\n",
    "a=fib(5)\n",
    "end_time = time.time()\n",
    "total_time=end_time-start_time\n",
    "print(a)\n",
    "print(total_time)"
   ]
  },
  {
   "cell_type": "code",
   "execution_count": 17,
   "id": "042ad749",
   "metadata": {},
   "outputs": [
    {
     "name": "stdout",
     "output_type": "stream",
     "text": [
      "832040\n"
     ]
    }
   ],
   "source": [
    "# Fibonacci series iterative approach\n",
    "def fibonacci_iterative(n):\n",
    "    a, b = 0, 1 \n",
    "    for i in range(n):\n",
    "        a, b = b, a + b  # Update the values of a and b\n",
    "    return a\n",
    "\n",
    "# Test the function\n",
    "n = 30\n",
    "print(fibonacci_iterative(n)) \n"
   ]
  },
  {
   "cell_type": "code",
   "execution_count": null,
   "id": "0a961dd8",
   "metadata": {},
   "outputs": [],
   "source": []
  },
  {
   "cell_type": "code",
   "execution_count": null,
   "id": "1270e3e8",
   "metadata": {},
   "outputs": [],
   "source": []
  },
  {
   "cell_type": "code",
   "execution_count": null,
   "id": "b733a70f",
   "metadata": {},
   "outputs": [],
   "source": []
  },
  {
   "cell_type": "code",
   "execution_count": null,
   "id": "b6054236",
   "metadata": {},
   "outputs": [],
   "source": []
  },
  {
   "cell_type": "code",
   "execution_count": null,
   "id": "98e7a0ee",
   "metadata": {},
   "outputs": [],
   "source": []
  },
  {
   "cell_type": "markdown",
   "id": "83232189",
   "metadata": {},
   "source": [
    "# LAMBDA FUNCTION"
   ]
  },
  {
   "cell_type": "markdown",
   "id": "8c5b3171",
   "metadata": {},
   "source": [
    "A lambda function is a small, anonymous function in Python \n",
    "defined using the lambda keyword. \n",
    "It is typically used for short, \n",
    "simple operations that are not reused elsewhere."
   ]
  },
  {
   "cell_type": "markdown",
   "id": "506f22fe",
   "metadata": {},
   "source": [
    "## SYNTAX: lambda arguments: expression\n",
    "\n",
    "arguments: Input parameters (like those in a regular function).\n",
    "expression: A single expression evaluated and returned by the lambda function."
   ]
  },
  {
   "cell_type": "markdown",
   "id": "20c4aaab",
   "metadata": {},
   "source": [
    "Utility of Lambda Functions\n",
    "Conciseness: Ideal for short, throwaway functions.\n",
    "Functional Programming: Often used with higher-order functions like map(), filter(), and reduce().\n",
    "Inline Usage: Eliminates the need to define a separate named function for a quick, one-off task.\n",
    "Custom Key Functions: Used with operations like sorting or finding max/min."
   ]
  },
  {
   "cell_type": "code",
   "execution_count": 1,
   "id": "fe89fded",
   "metadata": {},
   "outputs": [
    {
     "name": "stdout",
     "output_type": "stream",
     "text": [
      "16\n"
     ]
    }
   ],
   "source": [
    "square = lambda x: x**2\n",
    "print(square(4)) \n",
    "\n"
   ]
  },
  {
   "cell_type": "code",
   "execution_count": 4,
   "id": "1e22e976",
   "metadata": {},
   "outputs": [
    {
     "data": {
      "text/plain": [
       "'Yes'"
      ]
     },
     "execution_count": 4,
     "metadata": {},
     "output_type": "execute_result"
    }
   ],
   "source": [
    "# Check whether a given string startswith 'a' or not:\n",
    "x=lambda i: \"Yes\" if i.startswith('a') else \"No\"\n",
    "x('apple')"
   ]
  },
  {
   "cell_type": "code",
   "execution_count": 5,
   "id": "4b8a848e",
   "metadata": {},
   "outputs": [
    {
     "data": {
      "text/plain": [
       "False"
      ]
     },
     "execution_count": 5,
     "metadata": {},
     "output_type": "execute_result"
    }
   ],
   "source": [
    "x=lambda i: i.startswith('a') \n",
    "x('bpple')"
   ]
  },
  {
   "cell_type": "code",
   "execution_count": 9,
   "id": "ddce32d2",
   "metadata": {},
   "outputs": [
    {
     "data": {
      "text/plain": [
       "'Odd'"
      ]
     },
     "execution_count": 9,
     "metadata": {},
     "output_type": "execute_result"
    }
   ],
   "source": [
    "y=lambda j:\"Even\" if j%2==0 else 'Odd'\n",
    "y(999)\n"
   ]
  },
  {
   "cell_type": "markdown",
   "id": "aa95d2b4",
   "metadata": {},
   "source": [
    "Higher-Order Functions\n",
    "A higher-order function is a function that satisfies at least one of these two conditions:\n",
    "Takes another function as an argument: The function can accept other \n",
    "functions as inputs to process data or perform operations.\n",
    "Returns a function as its result: The function can produce another function as output.\n",
    "Higher-order functions are a foundational concept in functional programming, \n",
    "enabling operations like mapping, filtering, and reducing data."
   ]
  },
  {
   "cell_type": "code",
   "execution_count": 2,
   "id": "acc7d599",
   "metadata": {},
   "outputs": [
    {
     "name": "stdout",
     "output_type": "stream",
     "text": [
      "[1, 4, 9, 16, 25]\n"
     ]
    }
   ],
   "source": [
    "# map(function,iterable)\n",
    "#Applies a given function to all items in an iterable and returns a map object (an iterator).\n",
    "numbers = [1, 2, 3, 4, 5]\n",
    "squared = map(lambda x: x**2, numbers)\n",
    "print(list(squared))  #need to convert the map object into the list first\n"
   ]
  },
  {
   "cell_type": "code",
   "execution_count": null,
   "id": "670121b3",
   "metadata": {},
   "outputs": [
    {
     "ename": "NameError",
     "evalue": "name 'numbers' is not defined",
     "output_type": "error",
     "traceback": [
      "\u001b[1;31m---------------------------------------------------------------------------\u001b[0m",
      "\u001b[1;31mNameError\u001b[0m                                 Traceback (most recent call last)",
      "Cell \u001b[1;32mIn[6], line 3\u001b[0m\n\u001b[0;32m      1\u001b[0m \u001b[38;5;66;03m#Check whether each number in a list is even or odd\u001b[39;00m\n\u001b[1;32m----> 3\u001b[0m even_odd\u001b[38;5;241m=\u001b[39m\u001b[38;5;28mlist\u001b[39m(\u001b[38;5;28mmap\u001b[39m(\u001b[38;5;28;01mlambda\u001b[39;00m x: x\u001b[38;5;241m%\u001b[39m\u001b[38;5;241m2\u001b[39m\u001b[38;5;241m==\u001b[39m\u001b[38;5;241m0\u001b[39m, \u001b[43mnumbers\u001b[49m))\n\u001b[0;32m      4\u001b[0m \u001b[38;5;28mprint\u001b[39m(even_odd)\n",
      "\u001b[1;31mNameError\u001b[0m: name 'numbers' is not defined"
     ]
    }
   ],
   "source": [
    "#Check whether each number in a list is even or odd\n",
    "\n",
    "even_odd=list(map(lambda x: if x%2==0 return 1))\n",
    "print(even_odd)"
   ]
  },
  {
   "cell_type": "code",
   "execution_count": 2,
   "id": "db51aa56",
   "metadata": {},
   "outputs": [
    {
     "name": "stdout",
     "output_type": "stream",
     "text": [
      "['Ayush', 'Aniket', 'Archita', 'Aishwarya']\n"
     ]
    }
   ],
   "source": [
    "# Get only the names of students from the list of dictionary\n",
    "\n",
    "\n",
    "students = [\n",
    "    {\"name\": \"Ayush\", \"age\": 18, \"subject\": \"CSE\"},\n",
    "    {\"name\": \"Aniket\", \"age\": 19, \"subject\": \"AI\"},\n",
    "    {\"name\": \"Archita\", \"age\": 20, \"subject\": \"AIML\"},\n",
    "    {\"name\": \"Aishwarya\", \"age\": 20, \"subject\": \"AIML\"},\n",
    "]\n",
    "\n",
    "# Use map with a lambda to fetch only the names\n",
    "student_names = list(map(lambda student: student[\"name\"], students))\n",
    "\n",
    "# Print the result\n",
    "print(student_names)\n"
   ]
  },
  {
   "cell_type": "code",
   "execution_count": null,
   "id": "c1e5b5db",
   "metadata": {},
   "outputs": [],
   "source": [
    "def square(num):\n",
    "    return num ** 2\n",
    "\n",
    "# List of numbers\n",
    "numbers = [1, 2, 3, 4, 5]\n",
    "\n",
    "# Using map() with the user-defined function\n",
    "squared_numbers = map(square, numbers)\n",
    "\n",
    "# Convert map object to list\n",
    "print(list(squared_numbers))\n"
   ]
  },
  {
   "cell_type": "code",
   "execution_count": 6,
   "id": "7abe0d45",
   "metadata": {},
   "outputs": [
    {
     "name": "stdout",
     "output_type": "stream",
     "text": [
      "[2, 4]\n"
     ]
    }
   ],
   "source": [
    "# filter(function,iterable)- filters any iterable based on a given condition:\n",
    "\n",
    "numbers = [1, 2, 3, 4]\n",
    "evens = filter(lambda x: x % 2 == 0, numbers)\n",
    "print(list(evens))  \n",
    "\n"
   ]
  },
  {
   "cell_type": "code",
   "execution_count": 8,
   "id": "a95ed4b0",
   "metadata": {},
   "outputs": [
    {
     "name": "stdout",
     "output_type": "stream",
     "text": [
      "['banana', 'cherry']\n"
     ]
    }
   ],
   "source": [
    "#  get fruits with names longer than 5 characters\n",
    "\n",
    "fruits = [\"apple\", \"banana\", \"cherry\", \"date\", \"grape\", \"kiwi\", \"mango\"]\n",
    "long_fruits = list(filter(lambda fruit: len(fruit) > 5, fruits))\n",
    "print(long_fruits)\n"
   ]
  },
  {
   "cell_type": "code",
   "execution_count": 11,
   "id": "df0f03de",
   "metadata": {},
   "outputs": [
    {
     "name": "stdout",
     "output_type": "stream",
     "text": [
      "['apple', 'cherry', 'date', 'grape']\n"
     ]
    }
   ],
   "source": [
    "# get fruits which has 'e' in it.\n",
    "\n",
    "filtered_fruits=filter(lambda i: 'e' in i, fruits)\n",
    "print(list(filtered_fruits))"
   ]
  },
  {
   "cell_type": "code",
   "execution_count": 4,
   "id": "51e48258",
   "metadata": {},
   "outputs": [
    {
     "data": {
      "text/plain": [
       "9"
      ]
     },
     "execution_count": 4,
     "metadata": {},
     "output_type": "execute_result"
    }
   ],
   "source": [
    "#reduce(function,iterable)\n",
    "#It is the function of functool module\n",
    "\n",
    "import functools\n",
    "lst=[3,2,7,9,1]\n",
    "functools.reduce(lambda x,y:x if x>y else y,lst)\n"
   ]
  },
  {
   "cell_type": "code",
   "execution_count": 7,
   "id": "c2475622",
   "metadata": {},
   "outputs": [
    {
     "data": {
      "text/plain": [
       "22"
      ]
     },
     "execution_count": 7,
     "metadata": {},
     "output_type": "execute_result"
    }
   ],
   "source": [
    "lst=[3,2,7,9,1]\n",
    "functools.reduce(lambda x,y:x+y, lst)\n"
   ]
  },
  {
   "cell_type": "code",
   "execution_count": null,
   "id": "6042b554",
   "metadata": {},
   "outputs": [],
   "source": []
  },
  {
   "cell_type": "code",
   "execution_count": null,
   "id": "d75c729f",
   "metadata": {},
   "outputs": [],
   "source": []
  }
 ],
 "metadata": {
  "kernelspec": {
   "display_name": "Python 3",
   "language": "python",
   "name": "python3"
  },
  "language_info": {
   "codemirror_mode": {
    "name": "ipython",
    "version": 3
   },
   "file_extension": ".py",
   "mimetype": "text/x-python",
   "name": "python",
   "nbconvert_exporter": "python",
   "pygments_lexer": "ipython3",
   "version": "3.12.6"
  }
 },
 "nbformat": 4,
 "nbformat_minor": 5
}
