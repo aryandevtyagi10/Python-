{
 "cells": [
  {
   "cell_type": "code",
   "execution_count": null,
   "id": "f1c765bb",
   "metadata": {},
   "outputs": [],
   "source": [
    "#This code saves the content of user input into a file.\n",
    "name=input(\"Enter name\")\n",
    "f=open('data.txt','w')\n",
    "f.write(name)\n",
    "f.close=open('data.txt','r')\n",
    "f.read()"
   ]
  },
  {
   "cell_type": "code",
   "execution_count": 8,
   "id": "07a63d8b",
   "metadata": {},
   "outputs": [
    {
     "name": "stdout",
     "output_type": "stream",
     "text": [
      "Hello World!\n",
      "Welcome to the 4th unit.\n"
     ]
    }
   ],
   "source": [
    "# Opening a file\n",
    "file=open(\"C:/Users/Nishtha Negi/Desktop/demo.txt\")\n",
    "print(file.read())\n",
    "file.close()\n",
    "\n"
   ]
  },
  {
   "cell_type": "code",
   "execution_count": 9,
   "id": "a286865d",
   "metadata": {},
   "outputs": [
    {
     "name": "stdout",
     "output_type": "stream",
     "text": [
      "0\n",
      "Hel\n",
      "3\n"
     ]
    }
   ],
   "source": [
    "#Seek() and tell() operation on files:\n",
    "#tell()- This method is used to find the current \n",
    "#position of a file pointer from the beginning of the file.\n",
    "#Position starts from 0 just like string indexing.\n",
    "\n",
    "f=open(\"C:/Users/Nishtha Negi/Desktop/demo.txt\", 'r')\n",
    "print(f.tell())\n",
    "print(f.read(3))\n",
    "print(f.tell())\n",
    "f.close()\n"
   ]
  },
  {
   "cell_type": "code",
   "execution_count": 11,
   "id": "f97c30b0",
   "metadata": {},
   "outputs": [
    {
     "name": "stdout",
     "output_type": "stream",
     "text": [
      "Hello World!\n",
      "Welcome to the 4th unit.\n",
      "\n",
      "0\n",
      "Hello Wor\n"
     ]
    }
   ],
   "source": [
    "# seek()- This method is used to change the position of the file pointer. \n",
    "\n",
    "file = open(\"C:/Users/Nishtha Negi/Desktop/demo.txt\", 'r')\n",
    "print(file.read())  # Reads the entire file\n",
    "print(file.read(9)) # gives blank output\n",
    "print(file.seek(0)) # takes the pointer back to position 0\n",
    "print(file.read(9)) # returns starting first 9 characters of the file"
   ]
  },
  {
   "cell_type": "code",
   "execution_count": 12,
   "id": "073ce8c3",
   "metadata": {},
   "outputs": [],
   "source": [
    "# Closing a file\n",
    "file.close()"
   ]
  },
  {
   "cell_type": "code",
   "execution_count": null,
   "id": "50a2005c",
   "metadata": {},
   "outputs": [],
   "source": [
    "# Text Mode: When a file is opened in text mode, it's data is of str type\n",
    "# Python first decodes the raw bytes using either a platform dependent encoding \n",
    "#or specified encoding.\n",
    "\n",
    "# Binary mode-In binary mode, a file's data is handled as raw bytes (bytes type in Python). \n",
    "#Unlike text mode, no decoding or encoding is performed. \n",
    "#This mode is useful when working with non-text files \n",
    "#such as images, audio files, or any data that isn't in a human-readable format."
   ]
  },
  {
   "cell_type": "code",
   "execution_count": 15,
   "id": "0cb95d30",
   "metadata": {},
   "outputs": [
    {
     "name": "stdout",
     "output_type": "stream",
     "text": [
      "A paragraph is a collection of words strung together to make a longer unit than a sentence. Several sentences often make to a paragraph. \n",
      "There are normally three to eight sentences in a paragraph. Paragraphs can start with a five-space indentation or by skipping a line and \n",
      "then starting over. This makes it simpler to tell when one paragraph ends and the next starts.\n"
     ]
    }
   ],
   "source": [
    "# File read in string mode returns a str object\n",
    "f=open('text.txt','r')\n",
    "print(f.read())\n",
    "f.close()"
   ]
  },
  {
   "cell_type": "code",
   "execution_count": 2,
   "id": "811fac6a",
   "metadata": {},
   "outputs": [
    {
     "name": "stdout",
     "output_type": "stream",
     "text": [
      "b'A paragraph is a collection of words strung together to make a longer unit than a sentence. Several sentences often make to a paragraph. \\r\\nThere are normally three to eight sentences in a paragraph. Paragraphs can start with a five-space indentation or by skipping a line and \\r\\nthen starting over. This makes it simpler to tell when one paragraph ends and the next starts.'\n"
     ]
    }
   ],
   "source": [
    "# File read in binary mode returns a byte object\n",
    "f=open('text.txt','rb')\n",
    "print(f.read())\n",
    "f.close()"
   ]
  },
  {
   "cell_type": "code",
   "execution_count": 14,
   "id": "242c1598",
   "metadata": {},
   "outputs": [],
   "source": [
    "# Read operations:\n",
    "#read()\n",
    "#readline()\n",
    "#readlines()\n"
   ]
  },
  {
   "cell_type": "code",
   "execution_count": 26,
   "id": "f1652312",
   "metadata": {},
   "outputs": [],
   "source": [
    "#readline()\n",
    "file=open('sample.txt','r')"
   ]
  },
  {
   "cell_type": "code",
   "execution_count": 28,
   "id": "464ded80",
   "metadata": {},
   "outputs": [
    {
     "name": "stdout",
     "output_type": "stream",
     "text": [
      "Second line added\n",
      "\n"
     ]
    }
   ],
   "source": [
    "print(file.readline())"
   ]
  },
  {
   "cell_type": "code",
   "execution_count": 30,
   "id": "87690138",
   "metadata": {},
   "outputs": [],
   "source": [
    "file.close()"
   ]
  },
  {
   "cell_type": "code",
   "execution_count": 23,
   "id": "e8066841",
   "metadata": {},
   "outputs": [
    {
     "name": "stdout",
     "output_type": "stream",
     "text": [
      "['sample file created and written over\\n', 'Second line added\\n', 'Third line added']\n"
     ]
    }
   ],
   "source": [
    "#readlines()\n",
    "file=open('sample.txt','r')\n",
    "data=file.readlines() #creates a list of each line as one element \n",
    "print(data)\n",
    "file.close()"
   ]
  },
  {
   "cell_type": "code",
   "execution_count": 41,
   "id": "b9b4bbf7",
   "metadata": {},
   "outputs": [
    {
     "name": "stdout",
     "output_type": "stream",
     "text": [
      "sample file created and written over\n",
      "Second line added\n",
      "Third line added\n",
      " file created and written over\n",
      "Second line added\n",
      "Third line added\n"
     ]
    }
   ],
   "source": [
    "# Effective way of handling files in python is to use the 'with open' statement\n",
    "with open('sample.txt','r') as file:\n",
    "    print(file.read())\n",
    "    file.seek(6)\n",
    "    print(file.read()) # file automatically closes as soon as the control goes out of the block"
   ]
  },
  {
   "cell_type": "markdown",
   "id": "3bd53b89",
   "metadata": {},
   "source": [
    "# Writing Operations on file"
   ]
  },
  {
   "cell_type": "code",
   "execution_count": 43,
   "id": "f1be8db4",
   "metadata": {},
   "outputs": [],
   "source": [
    "# In order to write data in file, we have to open in a mode\n",
    "# which provides the facility of writing data e.g., 'w', 'a', 'x'"
   ]
  },
  {
   "cell_type": "code",
   "execution_count": 25,
   "id": "4e3f3e75",
   "metadata": {},
   "outputs": [],
   "source": [
    "#write()\n",
    "# Syntax- file_object.write(data in string format)\n",
    "f=open('example.txt','w')\n",
    "f.write(\"This is the example of write mode in python\\n\")\n",
    "f.write(\"The file is created if it doesn't exist.\\n\")\n",
    "f.write(\"If it exist then it's content is overwritten\")\n",
    "f.close()"
   ]
  },
  {
   "cell_type": "code",
   "execution_count": 49,
   "id": "9357f4d8",
   "metadata": {},
   "outputs": [
    {
     "name": "stdout",
     "output_type": "stream",
     "text": [
      "31\n"
     ]
    }
   ],
   "source": [
    "# Overwriting existing file content\n",
    "f=open('example.txt','w')\n",
    "data=f.write(\"Previous content is overwritten\")\n",
    "print(data)\n",
    "f.close()"
   ]
  },
  {
   "cell_type": "code",
   "execution_count": null,
   "id": "1240ffe3",
   "metadata": {},
   "outputs": [],
   "source": [
    "'''The writelines() method in Python is used to write multiple lines to a file in one operation. \n",
    "It takes a sequence (such as a list or tuple) of strings as input and writes them to the file \n",
    "without adding any newline characters automatically. \n",
    "You are responsible for ensuring the lines in the sequence \n",
    "include newline characters (\\n) if needed.'''"
   ]
  },
  {
   "cell_type": "code",
   "execution_count": null,
   "id": "054b21cc",
   "metadata": {},
   "outputs": [],
   "source": [
    "# Syntax- file.writelines(sequence_of_strings)\n",
    "# sequence_of_strings: An iterable (like a list or tuple) containing strings. \n",
    "# Each string will be written to the file in the order they appear."
   ]
  },
  {
   "cell_type": "code",
   "execution_count": 55,
   "id": "9dec0fe3",
   "metadata": {},
   "outputs": [
    {
     "name": "stdout",
     "output_type": "stream",
     "text": [
      "Line 1\n",
      "Line 2\n",
      "Line 3\n",
      "\n"
     ]
    }
   ],
   "source": [
    "#writelines()\n",
    "# 'w+' mode- opens the file for both writing and reading\n",
    "lines = [\"Line 1\\n\", \"Line 2\\n\", \"Line 3\\n\"]\n",
    "f=open('example1.txt', 'w+')\n",
    "f.writelines(lines)\n",
    "f.seek(0)\n",
    "print(f.read())\n",
    "f.close()"
   ]
  },
  {
   "cell_type": "code",
   "execution_count": null,
   "id": "bc4d1464",
   "metadata": {},
   "outputs": [],
   "source": [
    "# append mode in  python\n",
    "\n",
    "'''In Python, the append mode is used to add content to an existing file \n",
    "without overwriting its current contents. \n",
    "When opening a file in append mode, \n",
    "any data written to the file is added to the end of the file.'''"
   ]
  },
  {
   "cell_type": "code",
   "execution_count": null,
   "id": "1967627c",
   "metadata": {},
   "outputs": [],
   "source": [
    "# 'a': Opens the file for appending (writing at the end). Creates the file if it doesn't exist.\n",
    "# 'a+': Opens the file for both appending and reading. Creates the file if it doesn't exist."
   ]
  },
  {
   "cell_type": "code",
   "execution_count": 16,
   "id": "f33e76e9",
   "metadata": {},
   "outputs": [],
   "source": [
    "f=open('example1.txt', 'a')\n",
    "f.write(\"Line 4\")\n",
    "f.close()"
   ]
  },
  {
   "cell_type": "code",
   "execution_count": 5,
   "id": "3eaf7f9c",
   "metadata": {},
   "outputs": [
    {
     "name": "stdout",
     "output_type": "stream",
     "text": [
      "Line 1\n",
      "Line 2\n",
      "Line 3\n",
      "Line 4\n",
      "Line 5\n"
     ]
    }
   ],
   "source": [
    "f=open('example1.txt', 'a+')\n",
    "f.write(\"\\nLine 5\")\n",
    "f.seek(0)\n",
    "print(f.read())\n",
    "f.close()"
   ]
  },
  {
   "cell_type": "code",
   "execution_count": 6,
   "id": "a93edf3d",
   "metadata": {},
   "outputs": [
    {
     "data": {
      "text/plain": [
       "\"In Python, the exclusive mode is represented by the 'x' file mode. \\nIt is used to create a new file for writing, \\nbut it will raise an error if the file already exists. \\nThis ensures that you don't accidentally overwrite an existing file.\""
      ]
     },
     "execution_count": 6,
     "metadata": {},
     "output_type": "execute_result"
    }
   ],
   "source": [
    "# 'x' mode\n",
    "'''In Python, the exclusive mode is represented by the 'x' file mode. \n",
    "It is used to create a new file for writing, \n",
    "but it will raise an error if the file already exists. \n",
    "This ensures that you don't accidentally overwrite an existing file.'''"
   ]
  },
  {
   "cell_type": "code",
   "execution_count": 31,
   "id": "80cff2d7",
   "metadata": {},
   "outputs": [],
   "source": [
    "f=open('example2.txt', 'x')\n",
    "f.write(\"\\nLine 6\")\n",
    "f.close()"
   ]
  },
  {
   "cell_type": "code",
   "execution_count": 18,
   "id": "760a6cd2",
   "metadata": {},
   "outputs": [
    {
     "name": "stdout",
     "output_type": "stream",
     "text": [
      "File renamed\n"
     ]
    }
   ],
   "source": [
    "# Rename file\n",
    "# Syntax: os.rename('OldFileName','NewFileName')\n",
    "import os\n",
    "os.rename('example2.txt','example1.txt')\n",
    "print('File renamed')"
   ]
  },
  {
   "cell_type": "code",
   "execution_count": 19,
   "id": "1f5acf73",
   "metadata": {},
   "outputs": [
    {
     "name": "stdout",
     "output_type": "stream",
     "text": [
      "sample file created and written over\n",
      "Second line added\n",
      "Third line added\n"
     ]
    }
   ],
   "source": [
    "# Copy File\n",
    "f=open('sample.txt','r')\n",
    "data=f.read()\n",
    "print(data)\n"
   ]
  },
  {
   "cell_type": "code",
   "execution_count": 21,
   "id": "b459b7f5",
   "metadata": {},
   "outputs": [],
   "source": [
    "f=open('sample2.txt','w')\n",
    "f.write(data)\n",
    "f.close()"
   ]
  },
  {
   "cell_type": "code",
   "execution_count": null,
   "id": "0f4653c8",
   "metadata": {},
   "outputs": [],
   "source": []
  }
 ],
 "metadata": {
  "kernelspec": {
   "display_name": "Python 3 (ipykernel)",
   "language": "python",
   "name": "python3"
  },
  "language_info": {
   "codemirror_mode": {
    "name": "ipython",
    "version": 3
   },
   "file_extension": ".py",
   "mimetype": "text/x-python",
   "name": "python",
   "nbconvert_exporter": "python",
   "pygments_lexer": "ipython3",
   "version": "3.9.7"
  }
 },
 "nbformat": 4,
 "nbformat_minor": 5
}
